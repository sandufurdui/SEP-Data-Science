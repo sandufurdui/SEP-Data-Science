{
 "cells": [
  {
   "cell_type": "markdown",
   "metadata": {},
   "source": [
    "Import necessary library"
   ]
  },
  {
   "cell_type": "code",
   "execution_count": 42,
   "metadata": {},
   "outputs": [],
   "source": [
    "import pandas as pd"
   ]
  },
  {
   "cell_type": "markdown",
   "metadata": {},
   "source": [
    "Pre-process the temp.csv file by deleting the records where the year is out of the 1992-2013 and saving the median value for the cases where same country has multiple records for each year."
   ]
  },
  {
   "cell_type": "code",
   "execution_count": 43,
   "metadata": {},
   "outputs": [],
   "source": [
    "original_file_path = 'original_data/temp.csv'\n",
    "df = pd.read_csv(original_file_path)\n",
    " \n",
    "df = df[(df['year'] >= 1992) & (df['year'] <= 2013)]\n",
    "\n",
    "# convert avg_temp column to numeric (if it's not already)\n",
    "df['avg_temp'] = pd.to_numeric(df['avg_temp'], errors='coerce')\n",
    "\n",
    "# group by year and country and calculate the median for avg_temp\n",
    "median_df = df.groupby(['year', 'country'])['avg_temp'].median().reset_index()\n",
    " \n",
    "median_df['avg_temp'] = median_df['avg_temp'].round(2)\n",
    " \n",
    "final_median_file_path = 'processed_data/processed_temp.csv'\n",
    "median_df.to_csv(final_median_file_path, index=False)\n"
   ]
  },
  {
   "cell_type": "markdown",
   "metadata": {},
   "source": [
    "Pre-process the pesticides.csv file by deleting the records where the year is out of the 1992-2013."
   ]
  },
  {
   "cell_type": "code",
   "execution_count": 44,
   "metadata": {},
   "outputs": [],
   "source": [
    "file_path = 'original_data/pesticides.csv'\n",
    "df = pd.read_csv(file_path)\n",
    " \n",
    "df['Year'] = pd.to_numeric(df['Year'], errors='coerce')\n",
    " \n",
    "df['Value'] = pd.to_numeric(df['Value'], errors='coerce')\n",
    " \n",
    "df = df[(df['Year'] >= 1992) & (df['Year'] <= 2013)]\n",
    "\n",
    "processed_file_path = 'processed_data/processed_pesticides.csv'\n",
    "df.to_csv(processed_file_path, index=False)\n"
   ]
  },
  {
   "cell_type": "markdown",
   "metadata": {},
   "source": [
    "Pre-process the rainfall.csv file by deleting the records where the year is out of the 1992-2013."
   ]
  },
  {
   "cell_type": "code",
   "execution_count": 45,
   "metadata": {},
   "outputs": [],
   "source": [
    "file_path = 'original_data/rainfall.csv'\n",
    "df = pd.read_csv(file_path)\n",
    "\n",
    "df['Year'] = pd.to_numeric(df['Year'], errors='coerce')\n",
    "\n",
    "df = df[(df['Year'] >= 1992) & (df['Year'] <= 2013) & df['average_rain_fall_mm_per_year'].notnull()]\n",
    "\n",
    "processed_file_path = 'processed_data/processed_rainfall.csv'\n",
    "df.to_csv(processed_file_path, index=False)\n"
   ]
  },
  {
   "cell_type": "markdown",
   "metadata": {},
   "source": [
    "Pre-process the yield.csv file by deleting the records where the year is out of the 1992-2013."
   ]
  },
  {
   "cell_type": "code",
   "execution_count": 46,
   "metadata": {},
   "outputs": [],
   "source": [
    "df = pd.read_csv('original_data/yield.csv')\n",
    "\n",
    "df_filtered = df[(df['Year'] >= 1992) & (df['Year'] <= 2013)]\n",
    "\n",
    "df_filtered.to_csv('processed_data/processed_yield.csv', index=False)\n"
   ]
  },
  {
   "cell_type": "markdown",
   "metadata": {},
   "source": [
    "Delete the incomplete ranges where the records years do not complete the range 1992-2013"
   ]
  },
  {
   "cell_type": "code",
   "execution_count": 47,
   "metadata": {},
   "outputs": [],
   "source": [
    "file_path = 'processed_data/processed_yield.csv'\n",
    "df = pd.read_csv(file_path)\n",
    "\n",
    "df['Year'] = pd.to_numeric(df['Year'], errors='coerce')\n",
    "\n",
    "grouped = df.groupby(['Area', 'Item'])\n",
    "\n",
    "def is_complete_range(series):\n",
    "    return all(year in series for year in range(1992, 2014))\n",
    "\n",
    "complete_ranges = pd.DataFrame()\n",
    "\n",
    "for (area, item), group in grouped:\n",
    "    years = group['Year'].unique()\n",
    "    if is_complete_range(years):\n",
    "        complete_ranges = pd.concat([complete_ranges, group])\n",
    "\n",
    "\n",
    "complete_ranges.to_csv(file_path, index=False)\n"
   ]
  }
 ],
 "metadata": {
  "kernelspec": {
   "display_name": "Python 3",
   "language": "python",
   "name": "python3"
  },
  "language_info": {
   "codemirror_mode": {
    "name": "ipython",
    "version": 3
   },
   "file_extension": ".py",
   "mimetype": "text/x-python",
   "name": "python",
   "nbconvert_exporter": "python",
   "pygments_lexer": "ipython3",
   "version": "3.9.6"
  }
 },
 "nbformat": 4,
 "nbformat_minor": 2
}
