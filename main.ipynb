{
 "cells": [
  {
   "cell_type": "markdown",
   "metadata": {},
   "source": [
    "Importing necessary libraries"
   ]
  },
  {
   "cell_type": "code",
   "execution_count": 126,
   "metadata": {},
   "outputs": [],
   "source": [
    "import pandas as pd"
   ]
  },
  {
   "cell_type": "markdown",
   "metadata": {},
   "source": [
    "Map continent data with yield.csv"
   ]
  },
  {
   "cell_type": "code",
   "execution_count": 127,
   "metadata": {},
   "outputs": [],
   "source": [
    "yield_data = pd.read_csv('processed_data/processed_yield.csv')\n",
    "\n",
    "continent_data = pd.read_csv('processed_data/countries_by_continent_sorted.csv')\n",
    "\n",
    "combined_yield = pd.merge(yield_data, continent_data, how='left', left_on='Area', right_on='Country')\n",
    "\n",
    "combined_yield = combined_yield.drop(columns=['Country']).rename(columns={'Continent': 'Country_Continent'})\n",
    "\n",
    "combined_yield.to_csv('processed_data/yield_continent.csv', index=False)"
   ]
  },
  {
   "cell_type": "markdown",
   "metadata": {},
   "source": [
    "Map pesticides data with the updated yield"
   ]
  },
  {
   "cell_type": "code",
   "execution_count": 128,
   "metadata": {},
   "outputs": [],
   "source": [
    "yield_data = pd.read_csv('processed_data/yield_continent.csv')\n",
    "\n",
    "pesticides_data = pd.read_csv('processed_data/processed_pesticides.csv')\n",
    "\n",
    "combined_yield = pd.merge(yield_data, pesticides_data, how='left', on=['Area', 'Year'])\n",
    "\n",
    "combined_yield.to_csv('processed_data/yield_continent_pesticides.csv', index=False)\n"
   ]
  },
  {
   "cell_type": "markdown",
   "metadata": {},
   "source": [
    "Map rainfall data with the updated yield"
   ]
  },
  {
   "cell_type": "code",
   "execution_count": 129,
   "metadata": {},
   "outputs": [],
   "source": [
    "yield_data = pd.read_csv('processed_data/yield_continent_pesticides.csv')\n",
    " \n",
    "rainfall_data = pd.read_csv('processed_data/processed_rainfall.csv')\n",
    " \n",
    "combined_yield = pd.merge(yield_data, rainfall_data, how='left', on=['Area', 'Year'])\n",
    " \n",
    "combined_yield.to_csv('processed_data/yield_continent_pesticides_rainfall.csv', index=False)\n"
   ]
  },
  {
   "cell_type": "markdown",
   "metadata": {},
   "source": [
    "Map temperature data with the updated yield"
   ]
  },
  {
   "cell_type": "code",
   "execution_count": 130,
   "metadata": {},
   "outputs": [],
   "source": [
    "yield_data = pd.read_csv('processed_data/yield_continent_pesticides_rainfall.csv')\n",
    " \n",
    "temperature_data = pd.read_csv('processed_data/processed_temp.csv')\n",
    "\n",
    "combined_yield = pd.merge(yield_data, temperature_data, how='left', left_on=['Area', 'Year'], right_on=['country', 'year'])\n",
    "\n",
    "combined_yield = combined_yield.drop(columns=['country', 'year'])\n",
    "\n",
    "combined_yield.to_csv('processed_data/combined_raw_data.csv', index=False)\n"
   ]
  },
  {
   "cell_type": "markdown",
   "metadata": {},
   "source": [
    "Remove unecessary columns"
   ]
  },
  {
   "cell_type": "code",
   "execution_count": 131,
   "metadata": {},
   "outputs": [],
   "source": [
    "file_path = 'processed_data/combined_raw_data.csv'\n",
    " \n",
    "columns_to_delete = ['Domain Code', 'Domain_x', 'Area Code', 'Element_x', 'Element Code', 'Year Code', 'Domain_y', 'Element_y', ]\n",
    "\n",
    "df = pd.read_csv(file_path)\n",
    "\n",
    "df = df.drop(columns=columns_to_delete, errors='ignore')\n",
    "\n",
    "df.to_csv(file_path, index=False)"
   ]
  },
  {
   "cell_type": "markdown",
   "metadata": {},
   "source": [
    "delete rows that do not have values for the following columns 'Item_y', 'Unit_y', 'Value_y'"
   ]
  },
  {
   "cell_type": "code",
   "execution_count": 132,
   "metadata": {},
   "outputs": [
    {
     "name": "stdout",
     "output_type": "stream",
     "text": [
      "deleted: 4180 records\n"
     ]
    }
   ],
   "source": [
    "\n",
    "file_path = 'processed_data/combined_raw_data.csv'\n",
    "\n",
    "columns_to_delete = ['Item_y', 'Unit_y', 'Value_y', 'Country_Continent']\n",
    "\n",
    "df = pd.read_csv(file_path)\n",
    "\n",
    "records_before = len(df)\n",
    "\n",
    "df = df.dropna(subset=columns_to_delete, how='any')\n",
    "\n",
    "records_after = len(df)\n",
    "\n",
    "df.to_csv(file_path, index=False)\n",
    " \n",
    "n = records_before - records_after\n",
    " \n",
    "print(f\"deleted: {n} records\")\n"
   ]
  },
  {
   "cell_type": "markdown",
   "metadata": {},
   "source": [
    "count the number of records per continent"
   ]
  },
  {
   "cell_type": "code",
   "execution_count": 133,
   "metadata": {},
   "outputs": [
    {
     "name": "stdout",
     "output_type": "stream",
     "text": [
      "   Country_Continent                Item_x  Count\n",
      "0             Africa               Cassava    638\n",
      "1             Africa                 Maize    814\n",
      "2             Africa  Plantains and others    242\n",
      "3             Africa              Potatoes    660\n",
      "4             Africa           Rice, paddy    682\n",
      "5             Africa               Sorghum    682\n",
      "6             Africa              Soybeans    330\n",
      "7             Africa        Sweet potatoes    594\n",
      "8             Africa                 Wheat    506\n",
      "9             Africa                  Yams    352\n",
      "10              Asia               Cassava    264\n",
      "11              Asia                 Maize    748\n",
      "12              Asia  Plantains and others     44\n",
      "13              Asia              Potatoes    770\n",
      "14              Asia           Rice, paddy    550\n",
      "15              Asia               Sorghum    352\n",
      "16              Asia              Soybeans    440\n",
      "17              Asia        Sweet potatoes    396\n",
      "18              Asia                 Wheat    638\n",
      "19              Asia                  Yams     22\n",
      "20            Europe                 Maize    484\n",
      "21            Europe              Potatoes    704\n",
      "22            Europe           Rice, paddy    242\n",
      "23            Europe               Sorghum    242\n",
      "24            Europe              Soybeans    330\n",
      "25            Europe        Sweet potatoes     88\n",
      "26            Europe                 Wheat    682\n",
      "27            Europe                  Yams     22\n",
      "28     North America               Cassava    352\n",
      "29     North America                 Maize    374\n",
      "30     North America  Plantains and others    264\n",
      "31     North America              Potatoes    330\n",
      "32     North America           Rice, paddy    286\n",
      "33     North America               Sorghum    220\n",
      "34     North America              Soybeans    176\n",
      "35     North America        Sweet potatoes    330\n",
      "36     North America                 Wheat    110\n",
      "37     North America                  Yams    264\n",
      "38           Oceania               Cassava    154\n",
      "39           Oceania                 Maize    132\n",
      "40           Oceania  Plantains and others     44\n",
      "41           Oceania              Potatoes    132\n",
      "42           Oceania           Rice, paddy     66\n",
      "43           Oceania               Sorghum     66\n",
      "44           Oceania              Soybeans     22\n",
      "45           Oceania        Sweet potatoes    154\n",
      "46           Oceania                 Wheat     44\n",
      "47           Oceania                  Yams    110\n",
      "48     South America               Cassava    220\n",
      "49     South America                 Maize    264\n",
      "50     South America  Plantains and others    154\n",
      "51     South America              Potatoes    220\n",
      "52     South America           Rice, paddy    264\n",
      "53     South America               Sorghum    198\n",
      "54     South America              Soybeans    220\n",
      "55     South America        Sweet potatoes    220\n",
      "56     South America                 Wheat    220\n",
      "57     South America                  Yams     66\n"
     ]
    }
   ],
   "source": [
    "file_path = 'processed_data/combined_raw_data.csv'\n",
    "df = pd.read_csv(file_path)\n",
    "\n",
    "result = df.groupby(['Country_Continent', 'Item_x']).size().reset_index(name='Count')\n",
    "\n",
    "print(result)\n"
   ]
  },
  {
   "cell_type": "markdown",
   "metadata": {},
   "source": [
    "check the rows that do have only records for year range 1992-2013"
   ]
  },
  {
   "cell_type": "code",
   "execution_count": 136,
   "metadata": {},
   "outputs": [],
   "source": [
    "\n",
    "file_path = 'processed_data/combined_raw_data.csv'\n",
    "df = pd.read_csv(file_path)\n",
    "\n",
    "# column_to_check = 'avg_temp'\n",
    "column_to_check = 'average_rain_fall_mm_per_year'\n",
    "\n",
    "df['Year'] = pd.to_numeric(df['Year'], errors='coerce')\n",
    "\n",
    "rows_to_delete = df[(df['Year'] >= 1992) & (df['Year'] <= 2013) & (df[column_to_check].isnull())].index\n",
    "\n",
    "df.drop(rows_to_delete, inplace=True)\n",
    "\n",
    "df.to_csv(file_path, index=False)\n"
   ]
  },
  {
   "cell_type": "markdown",
   "metadata": {},
   "source": [
    "fill in the values where there are single missing values for average_rain_fall_mm_per_year"
   ]
  },
  {
   "cell_type": "code",
   "execution_count": 135,
   "metadata": {},
   "outputs": [],
   "source": [
    "def fill_empty_with_mean(csv_file_path): \n",
    "    df = pd.read_csv(csv_file_path)\n",
    " \n",
    "    for i in range(1, len(df) - 1):\n",
    "        if pd.isna(df.at[i, 'average_rain_fall_mm_per_year']): \n",
    "            mean_value = (df.at[i-1, 'average_rain_fall_mm_per_year'] + df.at[i+1, 'average_rain_fall_mm_per_year']) / 2\n",
    " \n",
    "            df.at[i, 'average_rain_fall_mm_per_year'] = mean_value\n",
    " \n",
    "    df.to_csv(csv_file_path, index=False)\n",
    " \n",
    "fill_empty_with_mean('processed_data/combined_raw_data.csv')"
   ]
  },
  {
   "cell_type": "markdown",
   "metadata": {},
   "source": [
    "managing final column operations(delete, rename, reordering)"
   ]
  },
  {
   "cell_type": "code",
   "execution_count": 137,
   "metadata": {},
   "outputs": [],
   "source": [
    "file_path = 'processed_data/combined_raw_data.csv'\n",
    "\n",
    "rename_columns = {\n",
    "    # 'old_column_name': 'new_column_name',\n",
    "    'Area': 'Country', \n",
    "    'Item_x': \"Crop\",\n",
    "    'Value_x': 'Quantity(hg/ha)',\n",
    "    'Country_Continent': 'Continent',\n",
    "    'Value_y': 'Pesticide use(toai)',\n",
    "    'average_rain_fall_mm_per_year': 'Rainfall(mm)',\n",
    "    'avg_temp': 'Temperature(C)', \n",
    "}\n",
    " \n",
    "reorder_columns = ['Continent', 'Country', 'Year', 'Temperature(C)', 'Rainfall(mm)', 'Pesticide use(toai)', 'Crop', 'Quantity(hg/ha)']\n",
    " \n",
    "# delete_columns = ['column_to_delete1', 'column_to_delete2', 'column_to_delete3']\n",
    "\n",
    "df = pd.read_csv(file_path)\n",
    "\n",
    "df.rename(columns=rename_columns, inplace=True)\n",
    " \n",
    "df = df[reorder_columns]\n",
    " \n",
    "# df.drop(columns=delete_columns, inplace=True, errors='ignore')\n",
    " \n",
    "df.to_csv(file_path, index=False)\n"
   ]
  }
 ],
 "metadata": {
  "kernelspec": {
   "display_name": "Python 3",
   "language": "python",
   "name": "python3"
  },
  "language_info": {
   "codemirror_mode": {
    "name": "ipython",
    "version": 3
   },
   "file_extension": ".py",
   "mimetype": "text/x-python",
   "name": "python",
   "nbconvert_exporter": "python",
   "pygments_lexer": "ipython3",
   "version": "3.9.6"
  }
 },
 "nbformat": 4,
 "nbformat_minor": 2
}
