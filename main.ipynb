{
 "cells": [
  {
   "cell_type": "markdown",
   "metadata": {},
   "source": [
    "Importing necessary libraries"
   ]
  },
  {
   "cell_type": "code",
   "execution_count": 16,
   "metadata": {},
   "outputs": [],
   "source": [
    "import pandas as pd"
   ]
  },
  {
   "cell_type": "markdown",
   "metadata": {},
   "source": [
    "Map continent data with yield.csv"
   ]
  },
  {
   "cell_type": "code",
   "execution_count": 17,
   "metadata": {},
   "outputs": [],
   "source": [
    "yield_data = pd.read_csv('original_data/yield.csv')\n",
    "\n",
    "continent_data = pd.read_csv('processed_data/countries_by_continent_sorted.csv')\n",
    "\n",
    "combined_yield = pd.merge(yield_data, continent_data, how='left', left_on='Area', right_on='Country')\n",
    "\n",
    "combined_yield = combined_yield.drop(columns=['Country']).rename(columns={'Continent': 'Country_Continent'})\n",
    "\n",
    "combined_yield.to_csv('processed_data/yield_continent.csv', index=False)"
   ]
  },
  {
   "cell_type": "markdown",
   "metadata": {},
   "source": [
    "Map pesticides data with the updated yield"
   ]
  },
  {
   "cell_type": "code",
   "execution_count": 18,
   "metadata": {},
   "outputs": [],
   "source": [
    "yield_data = pd.read_csv('processed_data/yield_continent.csv')\n",
    "\n",
    "pesticides_data = pd.read_csv('original_data/pesticides.csv')\n",
    "\n",
    "combined_yield = pd.merge(yield_data, pesticides_data, how='left', on=['Area', 'Year'])\n",
    "\n",
    "combined_yield.to_csv('processed_data/yield_continent_pesticides.csv', index=False)\n"
   ]
  },
  {
   "cell_type": "markdown",
   "metadata": {},
   "source": [
    "Map rainfall data with the updated yield"
   ]
  },
  {
   "cell_type": "code",
   "execution_count": 19,
   "metadata": {},
   "outputs": [],
   "source": [
    "yield_data = pd.read_csv('processed_data/yield_continent_pesticides.csv')\n",
    " \n",
    "rainfall_data = pd.read_csv('original_data/rainfall.csv')\n",
    " \n",
    "combined_yield = pd.merge(yield_data, rainfall_data, how='left', on=['Area', 'Year'])\n",
    " \n",
    "combined_yield.to_csv('processed_data/yield_continent_pesticides_rainfall.csv', index=False)\n"
   ]
  },
  {
   "cell_type": "markdown",
   "metadata": {},
   "source": [
    "Map temperature data with the updated yield"
   ]
  },
  {
   "cell_type": "code",
   "execution_count": 20,
   "metadata": {},
   "outputs": [
    {
     "name": "stderr",
     "output_type": "stream",
     "text": [
      "/var/folders/zc/ndxw3gq100s4y4g6l1dmhflh0000gn/T/ipykernel_81162/119835002.py:1: DtypeWarning: Columns (18) have mixed types. Specify dtype option on import or set low_memory=False.\n",
      "  yield_data = pd.read_csv('processed_data/yield_continent_pesticides_rainfall.csv')\n"
     ]
    }
   ],
   "source": [
    "yield_data = pd.read_csv('processed_data/yield_continent_pesticides_rainfall.csv')\n",
    " \n",
    "temperature_data = pd.read_csv('original_data/temp.csv')\n",
    "\n",
    "combined_yield = pd.merge(yield_data, temperature_data, how='left', left_on=['Area', 'Year'], right_on=['country', 'year'])\n",
    "\n",
    "combined_yield = combined_yield.drop(columns=['country', 'year'])\n",
    "\n",
    "combined_yield.to_csv('processed_data/combined_raw_data.csv', index=False)\n"
   ]
  },
  {
   "cell_type": "markdown",
   "metadata": {},
   "source": [
    "Remove unecessary columns"
   ]
  },
  {
   "cell_type": "code",
   "execution_count": 21,
   "metadata": {},
   "outputs": [
    {
     "name": "stderr",
     "output_type": "stream",
     "text": [
      "/var/folders/zc/ndxw3gq100s4y4g6l1dmhflh0000gn/T/ipykernel_81162/544248313.py:5: DtypeWarning: Columns (18) have mixed types. Specify dtype option on import or set low_memory=False.\n",
      "  df = pd.read_csv(file_path)\n"
     ]
    }
   ],
   "source": [
    "file_path = 'processed_data/combined_raw_data.csv'\n",
    " \n",
    "columns_to_delete = ['Domain Code', 'Domain_x', 'Area Code', 'Element_x', 'Element Code', 'Year Code', 'Domain_y', 'Element_y', ]\n",
    "\n",
    "df = pd.read_csv(file_path)\n",
    "\n",
    "df = df.drop(columns=columns_to_delete, errors='ignore')\n",
    "\n",
    "df.to_csv(file_path, index=False)"
   ]
  }
 ],
 "metadata": {
  "kernelspec": {
   "display_name": "Python 3",
   "language": "python",
   "name": "python3"
  },
  "language_info": {
   "codemirror_mode": {
    "name": "ipython",
    "version": 3
   },
   "file_extension": ".py",
   "mimetype": "text/x-python",
   "name": "python",
   "nbconvert_exporter": "python",
   "pygments_lexer": "ipython3",
   "version": "3.9.6"
  }
 },
 "nbformat": 4,
 "nbformat_minor": 2
}
